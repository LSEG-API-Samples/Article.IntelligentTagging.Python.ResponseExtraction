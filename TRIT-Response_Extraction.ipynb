{
 "cells": [
  {
   "cell_type": "code",
   "execution_count": null,
   "metadata": {},
   "outputs": [],
   "source": [
    "# Step 1: Import required libraries\n",
    "import requests\n",
    "import json"
   ]
  },
  {
   "cell_type": "code",
   "execution_count": null,
   "metadata": {},
   "outputs": [],
   "source": [
    "# Step 2 Prepare content which is plain text\n",
    "contentText = \"TomTom shares lifted by BMW, Peugeot contract wins. AMSTERDAM (Reuters) - TomTom shares jumped 4 percent on Tuesday after the Dutch navigation company said it had struck deals with carmakers BMW and Peugeot. TomTom said at the Paris motor show that it had extended its contract as a supplier of digital maps and traffic information for Peugeot, Citroen, Opel and Vauxhall models. It also said it would start to provide traffic information for BMW, Mini and Rolls Royce vehicles. Although TomTom did not provide financial details, the contract wins came as a relief for investors, worried about the entrance of Google as a competitor. Last month TomTom shares lost a quarter of their value in one day as Google announced a far-reaching supply deal with a group of carmakers including Renault, Nissan and Mitsubishi. TomTom shares recovered half of those losses last week as the company said it was considering selling its fleet-management business to focus on the head-to-head competition with the internet technology giant. Shares in TomTom traded up 4 percent to 7.43 euros at 1530 GMT, 12 percent lower than before Google’s Sept. 18 announcement.\"\n",
    "headType = \"text/raw\"\n",
    "#This article is taken from https://www.reuters.com/article/us-tomtom-stocks/tomtom-shares-lifted-by-bmw-peugeot-contract-wins-idUSKCN1MC23N\n",
    "\n",
    "#print(contentText)"
   ]
  },
  {
   "cell_type": "code",
   "execution_count": null,
   "metadata": {},
   "outputs": [],
   "source": [
    "# Step 3 Get Intelligent Tagging response from OpenCalais.\n",
    "token = '<valid_opencalais or hosted Intelligent Tagging_token>'\n",
    "url = \"https://api-eit.refinitiv.com/permid/calais\"\n",
    "payload = contentText.encode('utf8')\n",
    "headers = {\n",
    "    'Content-Type': headType,\n",
    "    'x-ag-access-token': token,\n",
    "    'x-calais-selectiveTags': 'Company,socialtags,City,topic-all',\n",
    "    'outputformat': \"application/json\"\n",
    "    }\n",
    "\n",
    "TRITResponse = requests.request(\"POST\", url, data=payload, headers=headers)\n",
    "#print(TRITResponse.text)"
   ]
  },
  {
   "cell_type": "code",
   "execution_count": null,
   "metadata": {},
   "outputs": [],
   "source": [
    "#print(TRITResponse.headers)"
   ]
  },
  {
   "cell_type": "code",
   "execution_count": null,
   "metadata": {},
   "outputs": [],
   "source": [
    "#print(TRITResponse.text)"
   ]
  },
  {
   "cell_type": "code",
   "execution_count": null,
   "metadata": {},
   "outputs": [],
   "source": [
    "JSONResponse = json.loads(TRITResponse.text)\n",
    "print(json.dumps(JSONResponse, indent=4, sort_keys=True))"
   ]
  },
  {
   "cell_type": "code",
   "execution_count": null,
   "metadata": {},
   "outputs": [],
   "source": [
    "#Get socialTags\n",
    "\n",
    "#Print Header\n",
    "print('====Social Tags====')\n",
    "print('Name, Importance')\n",
    "\n",
    "for key in JSONResponse:\n",
    "    if ('_typeGroup' in JSONResponse[key]):\n",
    "        if JSONResponse[key]['_typeGroup'] == 'socialTag':\n",
    "            print(JSONResponse[key]['name'] + \", \" + JSONResponse[key]['importance'])"
   ]
  },
  {
   "cell_type": "code",
   "execution_count": null,
   "metadata": {},
   "outputs": [],
   "source": [
    "#Get Topics\n",
    "\n",
    "#Print Header\n",
    "print('====Topics====')\n",
    "print('Topics, Score')\n",
    "\n",
    "for key in JSONResponse:\n",
    "    if ('_typeGroup' in JSONResponse[key]):\n",
    "        if JSONResponse[key]['_typeGroup'] == 'topics':\n",
    "            print(JSONResponse[key]['name'] + \", \" + str(JSONResponse[key]['score']))"
   ]
  },
  {
   "cell_type": "code",
   "execution_count": null,
   "metadata": {},
   "outputs": [],
   "source": [
    "#Get Entities\n",
    "\n",
    "#Print Header\n",
    "print('====Entities====')\n",
    "print('Type, Name')\n",
    "\n",
    "for key in JSONResponse:\n",
    "    if ('_typeGroup' in JSONResponse[key]):\n",
    "        if JSONResponse[key]['_typeGroup'] == 'entities':\n",
    "            print(JSONResponse[key]['_type'] + \", \" + JSONResponse[key]['name'])"
   ]
  },
  {
   "cell_type": "code",
   "execution_count": null,
   "metadata": {},
   "outputs": [],
   "source": [
    "#Get RIC code\n",
    "\n",
    "#Print Header\n",
    "print('====RIC====')\n",
    "print('RIC')\n",
    "\n",
    "for entity in JSONResponse:\n",
    "    for info in JSONResponse[entity]:\n",
    "        if (info =='resolutions'):\n",
    "            for companyinfo in (JSONResponse[entity][info]):\n",
    "                if 'primaryric' in companyinfo:\n",
    "                    print(companyinfo['primaryric'])"
   ]
  }
 ],
 "metadata": {
  "kernelspec": {
   "display_name": "Python 3",
   "language": "python",
   "name": "python3"
  },
  "language_info": {
   "codemirror_mode": {
    "name": "ipython",
    "version": 3
   },
   "file_extension": ".py",
   "mimetype": "text/x-python",
   "name": "python",
   "nbconvert_exporter": "python",
   "pygments_lexer": "ipython3",
   "version": "3.7.4"
  }
 },
 "nbformat": 4,
 "nbformat_minor": 4
}
